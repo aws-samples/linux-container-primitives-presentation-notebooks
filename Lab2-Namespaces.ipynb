{
 "cells": [
  {
   "cell_type": "markdown",
   "metadata": {},
   "source": [
    "# Namespaces Lab\n",
    "\n",
    "In this lab, we will explore how namespaces are presented in the Linux shell and how you can interact with namespaces using some simple commands. During the lab we will explore how you can interact with both the Network and Mount namespaces, which are commonly used by containers as an isolation mechanism to separate workloads running a single host.\n",
    "\n",
    "To start, lets explore a simple example of how namespaces work. Lets look at the network namespace.\n",
    "\n",
    "Here are the interfaces on our host:"
   ]
  },
  {
   "cell_type": "code",
   "execution_count": 1,
   "metadata": {},
   "outputs": [
    {
     "name": "stdout",
     "output_type": "stream",
     "text": [
      "1: lo: <LOOPBACK,UP,LOWER_UP> mtu 65536 qdisc noqueue state UNKNOWN mode DEFAULT group default qlen 1000\n",
      "    link/loopback 00:00:00:00:00:00 brd 00:00:00:00:00:00\n",
      "2: eth0: <BROADCAST,MULTICAST,UP,LOWER_UP> mtu 9001 qdisc mq state UP mode DEFAULT group default qlen 1000\n",
      "    link/ether 0a:49:1b:58:ba:8a brd ff:ff:ff:ff:ff:ff\n",
      "3: docker0: <BROADCAST,MULTICAST,UP,LOWER_UP> mtu 1500 qdisc noqueue state UP mode DEFAULT group default \n",
      "    link/ether 02:42:7e:db:91:d2 brd ff:ff:ff:ff:ff:ff\n",
      "21: veth16fe27a@if20: <BROADCAST,MULTICAST,UP,LOWER_UP> mtu 1500 qdisc noqueue master docker0 state UP mode DEFAULT group default \n",
      "    link/ether 82:c1:9b:ec:83:6c brd ff:ff:ff:ff:ff:ff link-netnsid 1\n"
     ]
    }
   ],
   "source": [
    "ip link"
   ]
  },
  {
   "cell_type": "markdown",
   "metadata": {},
   "source": [
    "Now, Lets use unshare to create a new namespace and run the same command to see the interfaces in this namespace:"
   ]
  },
  {
   "cell_type": "code",
   "execution_count": 2,
   "metadata": {},
   "outputs": [
    {
     "name": "stdout",
     "output_type": "stream",
     "text": [
      "1: lo: <LOOPBACK> mtu 65536 qdisc noop state DOWN mode DEFAULT group default qlen 1000\n",
      "    link/loopback 00:00:00:00:00:00 brd 00:00:00:00:00:00\n"
     ]
    }
   ],
   "source": [
    "sudo unshare -n ip link"
   ]
  },
  {
   "cell_type": "markdown",
   "metadata": {},
   "source": [
    "Note, we have a loopback interface, but the parameters attached to this interface are different to loopback on the host OS. This is a separate logical interface which has been facilitated by namespaces."
   ]
  },
  {
   "cell_type": "markdown",
   "metadata": {},
   "source": [
    "## Docker namespace utilization demo\n",
    "\n",
    "Now lets take a look at how docker uses namespaces to separate containers, and explore how we can interact with this namespace from the host OS. \n",
    "\n",
    "To start, lets run a redis container:"
   ]
  },
  {
   "cell_type": "code",
   "execution_count": 3,
   "metadata": {},
   "outputs": [
    {
     "name": "stdout",
     "output_type": "stream",
     "text": [
      "Using default tag: latest\n",
      "latest: Pulling from library/redis\n",
      "\n",
      "\u001b[1B3a3ba0a5: Pulling fs layer \n",
      "\u001b[1B019a4b43: Pulling fs layer \n",
      "\u001b[1B73b37fb2: Pulling fs layer \n",
      "\u001b[1B0dfbb7e3: Pulling fs layer \n",
      "\u001b[1Bf5ba1240: Pulling fs layer \n",
      "\u001b[1BDigest: sha256:000339fb57e0ddf2d48d72f3341e47a8ca3b1beae9bdcb25a96323095b72a79b\n",
      "Status: Downloaded newer image for redis:latest\n"
     ]
    }
   ],
   "source": [
    "docker pull redis"
   ]
  },
  {
   "cell_type": "code",
   "execution_count": 22,
   "metadata": {},
   "outputs": [
    {
     "name": "stdout",
     "output_type": "stream",
     "text": [
      "a7464de7a665a2eafadc572b0a27b2663e969d8d983b26ac0e466858d032f4be\n"
     ]
    }
   ],
   "source": [
    "docker run --name redis -d redis"
   ]
  },
  {
   "cell_type": "markdown",
   "metadata": {},
   "source": [
    "For the purposes of this lab, we will need to know the PID the Redis container is running under from the Host OS. We can extract this with the following shell command:"
   ]
  },
  {
   "cell_type": "code",
   "execution_count": 23,
   "metadata": {},
   "outputs": [
    {
     "name": "stdout",
     "output_type": "stream",
     "text": [
      "30740\n"
     ]
    }
   ],
   "source": [
    "REDIS_PID=$(ps ax | grep redis | grep -v grep | awk '{print $1}')\n",
    "echo $REDIS_PID"
   ]
  },
  {
   "cell_type": "markdown",
   "metadata": {},
   "source": [
    "From the Host OS, we can see the redis process.. even though redis is in a separate namespace. This is because the PID namespace is a little bit different and is visible to the host OS to allow us to see all running processes within the kernel. \n",
    "\n",
    "Next, we can find the network namespace id for our process by exploring the /proc filesystem with the readlink command:"
   ]
  },
  {
   "cell_type": "code",
   "execution_count": 25,
   "metadata": {},
   "outputs": [
    {
     "name": "stdout",
     "output_type": "stream",
     "text": [
      "net:[4026532522]\n"
     ]
    }
   ],
   "source": [
    "sudo readlink /proc/$REDIS_PID/ns/net"
   ]
  },
  {
   "cell_type": "markdown",
   "metadata": {},
   "source": [
    "Lets look deeper and examine the networking configuration of the Redis container we've started up. First, lets pull some information from Docker to gather the IP address recorded for the container: "
   ]
  },
  {
   "cell_type": "code",
   "execution_count": 26,
   "metadata": {},
   "outputs": [
    {
     "name": "stdout",
     "output_type": "stream",
     "text": [
      "172.17.0.3\n"
     ]
    }
   ],
   "source": [
    "CONTAINER_IP=$(docker inspect redis | jq .[0].NetworkSettings.IPAddress | sed -e s/\\\"//g)\n",
    "echo $CONTAINER_IP"
   ]
  },
  {
   "cell_type": "markdown",
   "metadata": {},
   "source": [
    "Now to cross check, lets enter the namespace created for the redis-server process (aka the Docker container), and run the ifconfig command. We should see the same IP address as recorded by Docker:"
   ]
  },
  {
   "cell_type": "code",
   "execution_count": 27,
   "metadata": {},
   "outputs": [
    {
     "name": "stdout",
     "output_type": "stream",
     "text": [
      "eth0: flags=4163<UP,BROADCAST,RUNNING,MULTICAST>  mtu 1500\n",
      "        inet 172.17.0.3  netmask 255.255.0.0  broadcast 172.17.255.255\n",
      "        ether 02:42:ac:11:00:03  txqueuelen 0  (Ethernet)\n",
      "        RX packets 11  bytes 866 (866.0 B)\n",
      "        RX errors 0  dropped 0  overruns 0  frame 0\n",
      "        TX packets 0  bytes 0 (0.0 B)\n",
      "        TX errors 0  dropped 0 overruns 0  carrier 0  collisions 0\n",
      "\n",
      "lo: flags=73<UP,LOOPBACK,RUNNING>  mtu 65536\n",
      "        inet 127.0.0.1  netmask 255.0.0.0\n",
      "        loop  txqueuelen 1000  (Local Loopback)\n",
      "        RX packets 0  bytes 0 (0.0 B)\n",
      "        RX errors 0  dropped 0  overruns 0  frame 0\n",
      "        TX packets 0  bytes 0 (0.0 B)\n",
      "        TX errors 0  dropped 0 overruns 0  carrier 0  collisions 0\n",
      "\n"
     ]
    }
   ],
   "source": [
    "sudo nsenter -t $REDIS_PID -n ifconfig"
   ]
  },
  {
   "cell_type": "markdown",
   "metadata": {},
   "source": [
    "As docker uses a bridge network by default, I can telnet to the redis-server from the host OS"
   ]
  },
  {
   "cell_type": "code",
   "execution_count": 28,
   "metadata": {},
   "outputs": [
    {
     "name": "stdout",
     "output_type": "stream",
     "text": [
      "+PONG\r\n"
     ]
    }
   ],
   "source": [
    "(printf \"PING\\r\\n\";) | nc $CONTAINER_IP 6379 "
   ]
  },
  {
   "cell_type": "markdown",
   "metadata": {},
   "source": [
    "Now lets explore how we can interact with the container namespace from the host OS.\n",
    "\n",
    "To do this, lets launch a nginx process from the Host OS, in the redis container namespace. \n",
    "\n",
    "Now, nginx does not ship in the docker container for redis, and the redis container is based on Ubuntu Linux, but we do have nginx installed on our Host OS, running Amazon Linux. \n",
    "\n",
    "In the next example, we namespace for our redis server, but execute nginx from our host OS, which is running Amazon Linux:"
   ]
  },
  {
   "cell_type": "code",
   "execution_count": 29,
   "metadata": {},
   "outputs": [],
   "source": [
    "sudo nsenter -t $REDIS_PID -n nginx"
   ]
  },
  {
   "cell_type": "markdown",
   "metadata": {},
   "source": [
    "Now, to validate the nginx process is not running in the host OS network namespace, i can try to connect to localhost:"
   ]
  },
  {
   "cell_type": "code",
   "execution_count": 30,
   "metadata": {},
   "outputs": [
    {
     "name": "stdout",
     "output_type": "stream",
     "text": [
      "curl: (7) Failed to connect to localhost port 80: Connection refused\n"
     ]
    },
    {
     "ename": "",
     "evalue": "7",
     "output_type": "error",
     "traceback": []
    }
   ],
   "source": [
    "curl http://localhost"
   ]
  },
  {
   "cell_type": "markdown",
   "metadata": {},
   "source": [
    "However, if i connect to the IP associated with the redis container network namespace:"
   ]
  },
  {
   "cell_type": "code",
   "execution_count": 31,
   "metadata": {},
   "outputs": [
    {
     "name": "stdout",
     "output_type": "stream",
     "text": [
      "<!DOCTYPE html PUBLIC \"-//W3C//DTD XHTML 1.1//EN\" \"http://www.w3.org/TR/xhtml11/DTD/xhtml11.dtd\">\n",
      "\n",
      "<html xmlns=\"http://www.w3.org/1999/xhtml\" xml:lang=\"en\">\n",
      "    <head>\n",
      "        <title>Test Page for the Nginx HTTP Server on Amazon Linux</title>\n",
      "        <meta http-equiv=\"Content-Type\" content=\"text/html; charset=UTF-8\" />\n",
      "        <style type=\"text/css\">\n",
      "            /*<![CDATA[*/\n",
      "            body {\n",
      "                background-color: #fff;\n",
      "                color: #000;\n",
      "                font-size: 0.9em;\n",
      "                font-family: sans-serif,helvetica;\n",
      "                margin: 0;\n",
      "                padding: 0;\n",
      "            }\n",
      "            :link {\n",
      "                color: #c00;\n",
      "            }\n",
      "            :visited {\n",
      "                color: #c00;\n",
      "            }\n",
      "            a:hover {\n",
      "                color: #f50;\n",
      "            }\n",
      "            h1 {\n",
      "                text-align: center;\n",
      "                margin: 0;\n",
      "                padding: 0.6em 2em 0.4em;\n",
      "                background-color: #294172;\n",
      "                color: #fff;\n",
      "                font-weight: normal;\n",
      "                font-size: 1.75em;\n",
      "                border-bottom: 2px solid #000;\n",
      "            }\n",
      "            h1 strong {\n",
      "                font-weight: bold;\n",
      "                font-size: 1.5em;\n",
      "            }\n",
      "            h2 {\n",
      "                text-align: center;\n",
      "                background-color: #3C6EB4;\n",
      "                font-size: 1.1em;\n",
      "                font-weight: bold;\n",
      "                color: #fff;\n",
      "                margin: 0;\n",
      "                padding: 0.5em;\n",
      "                border-bottom: 2px solid #294172;\n",
      "            }\n",
      "            hr {\n",
      "                display: none;\n",
      "            }\n",
      "            .content {\n",
      "                padding: 1em 5em;\n",
      "            }\n",
      "            .alert {\n",
      "                border: 2px solid #000;\n",
      "            }\n",
      "\n",
      "            img {\n",
      "                border: 2px solid #fff;\n",
      "                padding: 2px;\n",
      "                margin: 2px;\n",
      "            }\n",
      "            a:hover img {\n",
      "                border: 2px solid #294172;\n",
      "            }\n",
      "            .logos {\n",
      "                margin: 1em;\n",
      "                text-align: center;\n",
      "            }\n",
      "            /*]]>*/\n",
      "        </style>\n",
      "    </head>\n",
      "\n",
      "    <body>\n",
      "        <h1>Welcome to <strong>nginx</strong> on Amazon Linux!</h1>\n",
      "\n",
      "        <div class=\"content\">\n",
      "            <p>This page is used to test the proper operation of the\n",
      "            <strong>nginx</strong> HTTP server after it has been\n",
      "            installed. If you can read this page, it means that the\n",
      "            web server installed at this site is working\n",
      "            properly.</p>\n",
      "\n",
      "            <div class=\"alert\">\n",
      "                <h2>Website Administrator</h2>\n",
      "                <div class=\"content\">\n",
      "                    <p>This is the default <tt>index.html</tt> page that\n",
      "                    is distributed with <strong>nginx</strong> on\n",
      "                     Amazon Linux.  It is located in\n",
      "                    <tt>/usr/share/nginx/html</tt>.</p>\n",
      "\n",
      "                    <p>You should now put your content in a location of\n",
      "                    your choice and edit the <tt>root</tt> configuration\n",
      "                    directive in the <strong>nginx</strong>\n",
      "                    configuration file\n",
      "                    <tt>/etc/nginx/nginx.conf</tt>.</p>\n",
      "\n",
      "                </div>\n",
      "            </div>\n",
      "\n",
      "            <div class=\"logos\">\n",
      "                <a href=\"http://nginx.net/\"><img\n",
      "                    src=\"nginx-logo.png\" \n",
      "                    alt=\"[ Powered by nginx ]\"\n",
      "                    width=\"121\" height=\"32\" /></a>\n",
      "            </div>\n",
      "        </div>\n",
      "    </body>\n",
      "</html>\n"
     ]
    }
   ],
   "source": [
    "curl http://$CONTAINER_IP"
   ]
  },
  {
   "cell_type": "markdown",
   "metadata": {},
   "source": [
    "You can see this is the Amazon Linux distribution of Redis. \n",
    "\n",
    "I'm running a process in the same networking space as my container, but not in the container. It's sharing the networking space, but it's not running under Ubuntu which is what the container is running\n",
    "\n",
    "Interacting with namespaces on a host can be a useful tool for troubleshooting. By using commands like the above above, we can interact with the networking stack the docker container is running in. In turn, we can use this for troubleshooting to perform tests and rule out configuration problems in the docker container without needing to rebuild the container and redeploy. "
   ]
  },
  {
   "cell_type": "markdown",
   "metadata": {},
   "source": [
    "## Exploring the mount namespace\n",
    "\n",
    "Lets now look at this from the opposite direction: We don't have redis installed on the Amazon Linux host OS, but we do have this as part of our redis container that is running. Lets explore accessing the mount namespace from the Host OS. \n",
    "\n",
    "First, lets show there is no redis-server installed or running on localhost:"
   ]
  },
  {
   "cell_type": "code",
   "execution_count": 39,
   "metadata": {},
   "outputs": [
    {
     "name": "stdout",
     "output_type": "stream",
     "text": [
      "/usr/bin/which: no redis-server in (/home/ec2-user/.local/bin:/usr/local/bin:/usr/bin:/usr/local/sbin:/usr/sbin:/home/ec2-user/.local/bin:/home/ec2-user/bin)\n"
     ]
    },
    {
     "ename": "",
     "evalue": "1",
     "output_type": "error",
     "traceback": []
    }
   ],
   "source": [
    "which redis-server"
   ]
  },
  {
   "cell_type": "code",
   "execution_count": 40,
   "metadata": {},
   "outputs": [
    {
     "name": "stdout",
     "output_type": "stream",
     "text": [
      "Ncat: Connection refused.\n"
     ]
    },
    {
     "ename": "",
     "evalue": "1",
     "output_type": "error",
     "traceback": []
    }
   ],
   "source": [
    "(printf \"PING\\r\\n\";) | nc localhost 6379 "
   ]
  },
  {
   "cell_type": "markdown",
   "metadata": {},
   "source": [
    "Next, we can enter the mount namespace for our redis container, and run this binary on the host OS:"
   ]
  },
  {
   "cell_type": "code",
   "execution_count": 41,
   "metadata": {},
   "outputs": [
    {
     "name": "stdout",
     "output_type": "stream",
     "text": [
      "[1] 30866\n"
     ]
    },
    {
     "ename": "",
     "evalue": "1",
     "output_type": "error",
     "traceback": []
    }
   ],
   "source": [
    "sudo nsenter -t $REDIS_PID -m /usr/local/bin/redis-server &"
   ]
  },
  {
   "cell_type": "markdown",
   "metadata": {},
   "source": [
    "Now we can test the redis server in the host OS network namespace:"
   ]
  },
  {
   "cell_type": "code",
   "execution_count": 42,
   "metadata": {},
   "outputs": [
    {
     "name": "stdout",
     "output_type": "stream",
     "text": [
      "+PONG\r\n"
     ]
    }
   ],
   "source": [
    "(printf \"PING\\r\\n\";) | nc localhost 6379 "
   ]
  },
  {
   "cell_type": "markdown",
   "metadata": {},
   "source": [
    "We can also see we have two instances of redis running:"
   ]
  },
  {
   "cell_type": "code",
   "execution_count": 43,
   "metadata": {},
   "outputs": [
    {
     "name": "stdout",
     "output_type": "stream",
     "text": [
      "30740 ?        Ssl    0:00 redis-server *:6379\n",
      "30866 pts/2    S      0:00 sudo nsenter -t 30740 -m /usr/local/bin/redis-server\n",
      "30867 pts/2    Sl     0:00 /usr/local/bin/redis-server *:6379\n"
     ]
    }
   ],
   "source": [
    "ps ax | grep redis | grep -v grep"
   ]
  },
  {
   "cell_type": "markdown",
   "metadata": {},
   "source": [
    "Lab Cleanup\n",
    "\n",
    "After running this demo, use the following commands to clean up the lab and stop any running redis-service processes:"
   ]
  },
  {
   "cell_type": "code",
   "execution_count": 8,
   "metadata": {},
   "outputs": [
    {
     "name": "stdout",
     "output_type": "stream",
     "text": [
      "CONTAINER ID        IMAGE               COMMAND                  CREATED             STATUS              PORTS               NAMES\n",
      "24c69cb086e0        amazonlinux:2       \"/bin/tail -f /dev/n…\"   15 minutes ago      Up 15 minutes                           blissful_gates\n"
     ]
    }
   ],
   "source": [
    "docker ps"
   ]
  },
  {
   "cell_type": "code",
   "execution_count": 7,
   "metadata": {},
   "outputs": [
    {
     "name": "stdout",
     "output_type": "stream",
     "text": [
      "redis\n"
     ]
    }
   ],
   "source": [
    "docker stop redis"
   ]
  },
  {
   "cell_type": "code",
   "execution_count": 35,
   "metadata": {},
   "outputs": [
    {
     "name": "stdout",
     "output_type": "stream",
     "text": [
      "libstor+ 30740 30699  0 02:27 ?        00:00:00 \u001b[01;31m\u001b[Kredis\u001b[m\u001b[K-server *:6379\n",
      "root     30846 30226  0 02:34 pts/2    00:00:00 sudo nsenter -t 30740 -m /usr/local/bin/\u001b[01;31m\u001b[Kredis\u001b[m\u001b[K-server\n",
      "root     30847 30846  0 02:34 pts/2    00:00:00 /usr/local/bin/\u001b[01;31m\u001b[Kredis\u001b[m\u001b[K-server *:6379\n",
      "ec2-user 30854 30226  0 02:34 pts/2    00:00:00 grep --color=auto \u001b[01;31m\u001b[Kredis\u001b[m\u001b[K\n"
     ]
    }
   ],
   "source": [
    "ps -ef | grep redis"
   ]
  },
  {
   "cell_type": "code",
   "execution_count": 36,
   "metadata": {},
   "outputs": [
    {
     "name": "stdout",
     "output_type": "stream",
     "text": [
      "[1]+  Killed                  sudo nsenter -t $REDIS_PID -m /usr/local/bin/redis-server\n"
     ]
    }
   ],
   "source": [
    "sudo kill -9 30846 30847"
   ]
  },
  {
   "cell_type": "code",
   "execution_count": 21,
   "metadata": {},
   "outputs": [
    {
     "name": "stdout",
     "output_type": "stream",
     "text": [
      "redis\n"
     ]
    }
   ],
   "source": [
    "docker rm redis"
   ]
  },
  {
   "cell_type": "code",
   "execution_count": null,
   "metadata": {},
   "outputs": [],
   "source": []
  }
 ],
 "metadata": {
  "kernelspec": {
   "display_name": "Bash",
   "language": "bash",
   "name": "bash"
  },
  "language_info": {
   "codemirror_mode": "shell",
   "file_extension": ".sh",
   "mimetype": "text/x-sh",
   "name": "bash"
  }
 },
 "nbformat": 4,
 "nbformat_minor": 2
}
