{
 "cells": [
  {
   "cell_type": "markdown",
   "metadata": {},
   "source": [
    "# Linux Control Groups Demo"
   ]
  },
  {
   "cell_type": "markdown",
   "metadata": {},
   "source": [
    "This notebook explores cgroups on Linux. In walking through this notebook you will examine how cgroups are presented in the Linux filesystem, explore creating a new cgroup and assigning a PID to the group and finally examine how Docker translates many resource limits into cgroup based configuration. \n",
    "\n",
    "This notebook has been tested on an EC2 instance running Amazon Linux 2. \n",
    "\n",
    "During the public demonstration of this notebook at the AWS Sydney Summit 2019, the notebook was executed on a c4.xlarge instance. "
   ]
  },
  {
   "cell_type": "markdown",
   "metadata": {},
   "source": [
    "## Initial Exploration of cgroups\n",
    "\n",
    "Each process running in Linux is a member of a single cgroup per heirarchy. Cgroups are made visible via the /proc and /sys filesystems.\n",
    "\n",
    "Firstly, you can find the cgroup heiarchies listed under the /sys filesystem:"
   ]
  },
  {
   "cell_type": "code",
   "execution_count": 4,
   "metadata": {},
   "outputs": [
    {
     "name": "stdout",
     "output_type": "stream",
     "text": [
      "\u001b[0m\u001b[38;5;27mblkio\u001b[0m    \u001b[38;5;27mcpu,cpuacct\u001b[0m  \u001b[38;5;27mfreezer\u001b[0m  \u001b[38;5;51mnet_cls\u001b[0m           \u001b[38;5;27mperf_event\u001b[0m\n",
      "\u001b[38;5;51mcpu\u001b[0m      \u001b[38;5;27mcpuset\u001b[0m       \u001b[38;5;27mhugetlb\u001b[0m  \u001b[38;5;27mnet_cls,net_prio\u001b[0m  \u001b[38;5;27mpids\u001b[0m\n",
      "\u001b[38;5;51mcpuacct\u001b[0m  \u001b[38;5;27mdevices\u001b[0m      \u001b[38;5;27mmemory\u001b[0m   \u001b[38;5;51mnet_prio\u001b[0m          \u001b[38;5;27msystemd\u001b[0m\n"
     ]
    }
   ],
   "source": [
    "ls /sys/fs/cgroup"
   ]
  },
  {
   "cell_type": "markdown",
   "metadata": {},
   "source": [
    "Now, lets look at the cgroups our shell is currently in. First, get the PID:"
   ]
  },
  {
   "cell_type": "code",
   "execution_count": 5,
   "metadata": {},
   "outputs": [
    {
     "name": "stdout",
     "output_type": "stream",
     "text": [
      "29924\n"
     ]
    }
   ],
   "source": [
    "echo $$"
   ]
  },
  {
   "cell_type": "markdown",
   "metadata": {},
   "source": [
    "Now, lets find which cgroups this PID is currently mapped to:"
   ]
  },
  {
   "cell_type": "code",
   "execution_count": 5,
   "metadata": {},
   "outputs": [
    {
     "name": "stdout",
     "output_type": "stream",
     "text": [
      "11:pids:/user.slice\n",
      "10:freezer:/\n",
      "9:blkio:/user.slice\n",
      "8:perf_event:/\n",
      "7:hugetlb:/\n",
      "6:cpu,cpuacct:/user.slice\n",
      "5:cpuset:/\n",
      "4:net_cls,net_prio:/\n",
      "3:devices:/user.slice\n",
      "2:memory:/user.slice\n",
      "1:name=systemd:/user.slice/user-1000.slice/session-1413.scope\n"
     ]
    }
   ],
   "source": [
    "cat /proc/$$/cgroup"
   ]
  },
  {
   "cell_type": "markdown",
   "metadata": {},
   "source": [
    "From the above, you can see for some heirarchies, the process is assigned to the root of the heirarchy: for example freezer& cpuset. Note that in other heirarchies, for example blkio, the process is assigned to a sub-folder within the heirarchy: /user.slice . "
   ]
  },
  {
   "cell_type": "markdown",
   "metadata": {},
   "source": [
    "Within each cgroup, there are virtual files which are used by the resource controller to manage the processes allocated to the group. There are also reserved files, such as 'tasks' which are used to identify, and map, which PIDs are in this part of the cgroup heirarchy:"
   ]
  },
  {
   "cell_type": "code",
   "execution_count": 6,
   "metadata": {
    "scrolled": true
   },
   "outputs": [
    {
     "name": "stdout",
     "output_type": "stream",
     "text": [
      "cgroup.clone_children  \u001b[0m\u001b[38;5;27mdocker\u001b[0m             \u001b[38;5;27msystem.slice\u001b[0m\n",
      "cgroup.procs           notify_on_release  tasks\n",
      "cgroup.sane_behavior   release_agent      \u001b[38;5;27muser.slice\u001b[0m\n"
     ]
    }
   ],
   "source": [
    "ls /sys/fs/cgroup/pids"
   ]
  },
  {
   "cell_type": "markdown",
   "metadata": {},
   "source": [
    "From here in the root of the pids cgroup, you can see both the virtual files used by the resource controller, as we ll as the folder containing the user.slice section of the heirarchy we noted earlier\n",
    "\n",
    "The user.slice folder contains its own version of the policy files, as well as its own tasks file:"
   ]
  },
  {
   "cell_type": "code",
   "execution_count": 7,
   "metadata": {},
   "outputs": [
    {
     "name": "stdout",
     "output_type": "stream",
     "text": [
      "cgroup.clone_children  notify_on_release  pids.events  tasks\n",
      "cgroup.procs           pids.current       pids.max\n"
     ]
    }
   ],
   "source": [
    "ls /sys/fs/cgroup/pids/user.slice/"
   ]
  },
  {
   "cell_type": "markdown",
   "metadata": {},
   "source": [
    "Lets examine the tasks file in the user.slice folder. This file contains all of the PIDs that are in this part of the cgroup heiarchy, including our shell!"
   ]
  },
  {
   "cell_type": "code",
   "execution_count": 7,
   "metadata": {},
   "outputs": [
    {
     "name": "stdout",
     "output_type": "stream",
     "text": [
      "\u001b[01;31m\u001b[K29924\u001b[m\u001b[K\n"
     ]
    }
   ],
   "source": [
    "cat /sys/fs/cgroup/pids/user.slice/tasks | grep $$"
   ]
  },
  {
   "cell_type": "markdown",
   "metadata": {},
   "source": [
    "### Creating a new cgroup heirarchy: Controlling CPU Mapping\n",
    "\n",
    "In this section, we will create a new cgroup heirarchy within the cpuset cgroup. Within this, we will show how we can limit a process to only use specific CPUs in the host by configuring these limits on a cgroup and placing a process within this part of the heirarchy. \n",
    "\n",
    "First, lets look at the controls available in the cpuset cgroup:"
   ]
  },
  {
   "cell_type": "code",
   "execution_count": 8,
   "metadata": {},
   "outputs": [
    {
     "name": "stdout",
     "output_type": "stream",
     "text": [
      "cgroup.clone_children   cpuset.memory_pressure_enabled\n",
      "cgroup.procs            cpuset.memory_spread_page\n",
      "cgroup.sane_behavior    cpuset.memory_spread_slab\n",
      "cpuset.cpu_exclusive    cpuset.mems\n",
      "cpuset.cpus             cpuset.sched_load_balance\n",
      "cpuset.effective_cpus   cpuset.sched_relax_domain_level\n",
      "cpuset.effective_mems   \u001b[0m\u001b[38;5;27mdocker\u001b[0m\n",
      "cpuset.mem_exclusive    notify_on_release\n",
      "cpuset.mem_hardwall     release_agent\n",
      "cpuset.memory_migrate   tasks\n",
      "cpuset.memory_pressure\n"
     ]
    }
   ],
   "source": [
    "ls /sys/fs/cgroup/cpuset"
   ]
  },
  {
   "cell_type": "markdown",
   "metadata": {},
   "source": [
    "There are a number of controls available to manage the allocation of CPUs and memory to processes controlled by the cgroup.\n",
    "\n",
    "To create a new section of the heirarchy, we simply create a folder within the base cgroup folder:"
   ]
  },
  {
   "cell_type": "code",
   "execution_count": 9,
   "metadata": {},
   "outputs": [],
   "source": [
    "sudo mkdir /sys/fs/cgroup/cpuset/containers-demo"
   ]
  },
  {
   "cell_type": "code",
   "execution_count": 10,
   "metadata": {},
   "outputs": [
    {
     "name": "stdout",
     "output_type": "stream",
     "text": [
      "cgroup.clone_children  cpuset.memory_pressure\n",
      "cgroup.procs           cpuset.memory_spread_page\n",
      "cpuset.cpu_exclusive   cpuset.memory_spread_slab\n",
      "cpuset.cpus            cpuset.mems\n",
      "cpuset.effective_cpus  cpuset.sched_load_balance\n",
      "cpuset.effective_mems  cpuset.sched_relax_domain_level\n",
      "cpuset.mem_exclusive   notify_on_release\n",
      "cpuset.mem_hardwall    tasks\n",
      "cpuset.memory_migrate\n"
     ]
    }
   ],
   "source": [
    "ls /sys/fs/cgroup/cpuset/containers-demo"
   ]
  },
  {
   "cell_type": "markdown",
   "metadata": {},
   "source": [
    "To allow us to tweak the the cpuset virtual files we need to define baseline limits on memory and CPU cores. The kernel will not allow us to add a process to the this cgroup until this is complete. \n",
    "\n",
    "This demo is running a 4 vCPU EC2 instance (c4.xlarge) so we will define all 4 vCPUs as accessible initially:"
   ]
  },
  {
   "cell_type": "code",
   "execution_count": 11,
   "metadata": {},
   "outputs": [
    {
     "name": "stdout",
     "output_type": "stream",
     "text": [
      "0\n",
      "0-3\n"
     ]
    }
   ],
   "source": [
    "echo 0 | sudo tee /sys/fs/cgroup/cpuset/containers-demo/cpuset.mems\n",
    "echo 0-3 | sudo tee /sys/fs/cgroup/cpuset/containers-demo/cpuset.cpus"
   ]
  },
  {
   "cell_type": "markdown",
   "metadata": {},
   "source": [
    "Next, lets move our shell to the new cgroup we've just created by adding the PID to the tasks file:"
   ]
  },
  {
   "cell_type": "code",
   "execution_count": 12,
   "metadata": {},
   "outputs": [
    {
     "name": "stdout",
     "output_type": "stream",
     "text": [
      "29924\n"
     ]
    }
   ],
   "source": [
    "echo $$ | sudo tee /sys/fs/cgroup/cpuset/containers-demo/tasks"
   ]
  },
  {
   "cell_type": "markdown",
   "metadata": {},
   "source": [
    "Now lets check which PIDs are mapped to this section of the cgroup heirarchy:"
   ]
  },
  {
   "cell_type": "code",
   "execution_count": 13,
   "metadata": {},
   "outputs": [
    {
     "name": "stdout",
     "output_type": "stream",
     "text": [
      "29924\n",
      "30045\n"
     ]
    }
   ],
   "source": [
    "cat /sys/fs/cgroup/cpuset/containers-demo/tasks"
   ]
  },
  {
   "cell_type": "markdown",
   "metadata": {},
   "source": [
    "two processes! Our shell, but also the cat command as the shell is forking the cat process and the child process inherits its cgroup mapping from its parent."
   ]
  },
  {
   "cell_type": "markdown",
   "metadata": {},
   "source": [
    "Lets explore using cgroups to limit access to CPU Cores. Our host is a c4.xlarge which has 4 vCPU.\n",
    "\n",
    "If we run sysbench with 4 threads, lets see what result we get:"
   ]
  },
  {
   "cell_type": "code",
   "execution_count": 14,
   "metadata": {},
   "outputs": [
    {
     "name": "stdout",
     "output_type": "stream",
     "text": [
      "sysbench 1.0.9 (using system LuaJIT 2.0.4)\n",
      "\n",
      "Running the test with following options:\n",
      "Number of threads: 4\n",
      "Initializing random number generator from current time\n",
      "\n",
      "\n",
      "Prime numbers limit: 10000\n",
      "\n",
      "Initializing worker threads...\n",
      "\n",
      "Threads started!\n",
      "\n",
      "CPU speed:\n",
      "    events per second:  3327.13\n",
      "\n",
      "General statistics:\n",
      "    total time:                          10.0007s\n",
      "    total number of events:              33279\n",
      "\n",
      "Latency (ms):\n",
      "         min:                                  1.15\n",
      "         avg:                                  1.20\n",
      "         max:                                 11.73\n",
      "         95th percentile:                      1.21\n",
      "         sum:                              39963.37\n",
      "\n",
      "Threads fairness:\n",
      "    events (avg/stddev):           8319.7500/12.46\n",
      "    execution time (avg/stddev):   9.9908/0.00\n",
      "\n"
     ]
    }
   ],
   "source": [
    "/usr/bin/sysbench cpu --threads=4 run"
   ]
  },
  {
   "cell_type": "markdown",
   "metadata": {},
   "source": [
    "Now, lets modify the cpuset.cpus setting to limit the process to 2 of the 4 vCPUs:"
   ]
  },
  {
   "cell_type": "code",
   "execution_count": 15,
   "metadata": {},
   "outputs": [
    {
     "name": "stdout",
     "output_type": "stream",
     "text": [
      "2-3\n"
     ]
    }
   ],
   "source": [
    "echo 2-3 | sudo tee /sys/fs/cgroup/cpuset/containers-demo/cpuset.cpus"
   ]
  },
  {
   "cell_type": "markdown",
   "metadata": {},
   "source": [
    "Now if we re-run the same test, we should see approximately half the CPU performance: "
   ]
  },
  {
   "cell_type": "code",
   "execution_count": 16,
   "metadata": {},
   "outputs": [
    {
     "name": "stdout",
     "output_type": "stream",
     "text": [
      "sysbench 1.0.9 (using system LuaJIT 2.0.4)\n",
      "\n",
      "Running the test with following options:\n",
      "Number of threads: 4\n",
      "Initializing random number generator from current time\n",
      "\n",
      "\n",
      "Prime numbers limit: 10000\n",
      "\n",
      "Initializing worker threads...\n",
      "\n",
      "Threads started!\n",
      "\n",
      "CPU speed:\n",
      "    events per second:  1850.46\n",
      "\n",
      "General statistics:\n",
      "    total time:                          10.0015s\n",
      "    total number of events:              18510\n",
      "\n",
      "Latency (ms):\n",
      "         min:                                  1.08\n",
      "         avg:                                  2.16\n",
      "         max:                                 37.09\n",
      "         95th percentile:                     12.98\n",
      "         sum:                              39911.11\n",
      "\n",
      "Threads fairness:\n",
      "    events (avg/stddev):           4627.5000/196.33\n",
      "    execution time (avg/stddev):   9.9778/0.02\n",
      "\n"
     ]
    }
   ],
   "source": [
    "/usr/bin/sysbench cpu --threads=4 run"
   ]
  },
  {
   "cell_type": "markdown",
   "metadata": {},
   "source": [
    "## Docker and cgroups\n",
    "\n",
    "Now lets look at the same thing with docker\n",
    "\n",
    "Before proceeding, reset the Jupyter Kernel (under Kernel->Restart) to spawn a new shell which is not mapped to the cgroup we just created. \n",
    "\n",
    "Run the following commands to validate the kernel has a new PID:"
   ]
  },
  {
   "cell_type": "code",
   "execution_count": 17,
   "metadata": {},
   "outputs": [
    {
     "name": "stdout",
     "output_type": "stream",
     "text": [
      "29924\n"
     ]
    }
   ],
   "source": [
    "echo $$"
   ]
  },
  {
   "cell_type": "code",
   "execution_count": 18,
   "metadata": {},
   "outputs": [
    {
     "name": "stdout",
     "output_type": "stream",
     "text": [
      "11:pids:/user.slice\n",
      "10:freezer:/\n",
      "9:blkio:/user.slice\n",
      "8:perf_event:/\n",
      "7:hugetlb:/\n",
      "6:cpu,cpuacct:/user.slice\n",
      "5:cpuset:/containers-demo\n",
      "4:net_cls,net_prio:/\n",
      "3:devices:/user.slice\n",
      "2:memory:/user.slice\n",
      "1:name=systemd:/user.slice/user-1000.slice/session-2251.scope\n"
     ]
    }
   ],
   "source": [
    "cat /proc/$$/cgroup"
   ]
  },
  {
   "cell_type": "markdown",
   "metadata": {},
   "source": [
    "For this demo, we will use the Amazon Linux 2 Docker image to explore how Docker leverages cgroups. First, pull the image on to the host:"
   ]
  },
  {
   "cell_type": "code",
   "execution_count": 19,
   "metadata": {},
   "outputs": [
    {
     "name": "stdout",
     "output_type": "stream",
     "text": [
      "2: Pulling from library/amazonlinux\n",
      "Digest: sha256:d4a4328d679534af47c7a765d62a9195eb27f9a95c03213fca0a18f95aa112cd\n",
      "Status: Image is up to date for amazonlinux:2\n"
     ]
    }
   ],
   "source": [
    "docker pull amazonlinux:2"
   ]
  },
  {
   "cell_type": "markdown",
   "metadata": {},
   "source": [
    "Now lets run the container in an infinite loop and tell Docker to set cpuset-cpus to 2-3, just like we did in our previous demo:"
   ]
  },
  {
   "cell_type": "code",
   "execution_count": 20,
   "metadata": {},
   "outputs": [
    {
     "name": "stdout",
     "output_type": "stream",
     "text": [
      "24c69cb086e0df84c2019cfcc8879d2fd783c222c3741007b4a9ce066b48e68f\n"
     ]
    }
   ],
   "source": [
    "docker run --cpuset-cpus 2-3 --rm -d --cidfile /tmp/docker_amazonlinux.cid amazonlinux:2 /bin/tail -f /dev/null\n",
    "CONTAINER_CID=`cat /tmp/docker_amazonlinux.cid`"
   ]
  },
  {
   "cell_type": "code",
   "execution_count": 21,
   "metadata": {},
   "outputs": [
    {
     "name": "stdout",
     "output_type": "stream",
     "text": [
      "CONTAINER ID        IMAGE               COMMAND                  CREATED             STATUS              PORTS               NAMES\n",
      "24c69cb086e0        amazonlinux:2       \"/bin/tail -f /dev/n…\"   6 seconds ago       Up 5 seconds                            blissful_gates\n"
     ]
    }
   ],
   "source": [
    "docker ps"
   ]
  },
  {
   "cell_type": "markdown",
   "metadata": {},
   "source": [
    "Docker creates a cgroup heirarchy for itself, and then within that a sub-heirarchy for each container based on the container id. In the above Docker command, we exported the container ID and we reference it here in the shell variable $CONTAINER_CID for briefness:"
   ]
  },
  {
   "cell_type": "code",
   "execution_count": 22,
   "metadata": {},
   "outputs": [
    {
     "name": "stdout",
     "output_type": "stream",
     "text": [
      "cgroup.clone_children  cpuset.memory_pressure\n",
      "cgroup.procs           cpuset.memory_spread_page\n",
      "cpuset.cpu_exclusive   cpuset.memory_spread_slab\n",
      "cpuset.cpus            cpuset.mems\n",
      "cpuset.effective_cpus  cpuset.sched_load_balance\n",
      "cpuset.effective_mems  cpuset.sched_relax_domain_level\n",
      "cpuset.mem_exclusive   notify_on_release\n",
      "cpuset.mem_hardwall    tasks\n",
      "cpuset.memory_migrate\n"
     ]
    }
   ],
   "source": [
    "ls /sys/fs/cgroup/cpuset/docker/$CONTAINER_CID/"
   ]
  },
  {
   "cell_type": "markdown",
   "metadata": {},
   "source": [
    "If we inspect the cpuset.cpus value, we will see it matches that passed to the Docker command when we launched the container: "
   ]
  },
  {
   "cell_type": "code",
   "execution_count": 23,
   "metadata": {},
   "outputs": [
    {
     "name": "stdout",
     "output_type": "stream",
     "text": [
      "2-3\n"
     ]
    }
   ],
   "source": [
    "cat /sys/fs/cgroup/cpuset/docker/$CONTAINER_CID/cpuset.cpus"
   ]
  },
  {
   "cell_type": "markdown",
   "metadata": {},
   "source": [
    "## Lab Clean Up"
   ]
  },
  {
   "cell_type": "markdown",
   "metadata": {},
   "source": [
    "The following commands remove the cgroups created in this notebook. \n",
    "\n",
    "Prior to running the below commands, Click on Kernel->Restart in Jupyter to start a new underlying shell, as you will not be able to remove a cgroup if there is a process (ie the original Jupyter Kernel) still mapped to it. \n",
    "\n",
    "After restarting the kernel, execute the next line to remove the containers-demo cgroup:"
   ]
  },
  {
   "cell_type": "code",
   "execution_count": 2,
   "metadata": {},
   "outputs": [],
   "source": [
    "sudo rmdir /sys/fs/cgroup/cpuset/containers-demo"
   ]
  },
  {
   "cell_type": "markdown",
   "metadata": {},
   "source": [
    "Execute the following command to remove the temporary container id file created by the Docker example in this lab:"
   ]
  },
  {
   "cell_type": "code",
   "execution_count": 3,
   "metadata": {},
   "outputs": [],
   "source": [
    "rm /tmp/docker_amazonlinux.cid"
   ]
  },
  {
   "cell_type": "code",
   "execution_count": null,
   "metadata": {},
   "outputs": [],
   "source": []
  }
 ],
 "metadata": {
  "kernelspec": {
   "display_name": "Bash",
   "language": "bash",
   "name": "bash"
  },
  "language_info": {
   "codemirror_mode": "shell",
   "file_extension": ".sh",
   "mimetype": "text/x-sh",
   "name": "bash"
  }
 },
 "nbformat": 4,
 "nbformat_minor": 2
}
