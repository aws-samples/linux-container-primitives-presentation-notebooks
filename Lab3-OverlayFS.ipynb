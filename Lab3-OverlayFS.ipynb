{
 "cells": [
  {
   "cell_type": "markdown",
   "metadata": {},
   "source": [
    "## Overlay Filesystems Demo"
   ]
  },
  {
   "cell_type": "markdown",
   "metadata": {},
   "source": [
    "This notebook explores overlay filesystems and Dockers use of this feature. In the notebook you will build and run some Docker containers and explore how the layered filesystem specified by the Dockerfile are presented in the filesystem. "
   ]
  },
  {
   "cell_type": "markdown",
   "metadata": {},
   "source": [
    "### Preparation"
   ]
  },
  {
   "cell_type": "markdown",
   "metadata": {},
   "source": [
    "This lab walks through the Docker overlay filesystem. In order to clearly observe the folders created here, the following command can be executed to reset the docker installation and remove all cached images. \n",
    "\n",
    "**Do not execute this on a production system or one containing data you cannot remove**\n"
   ]
  },
  {
   "cell_type": "code",
   "execution_count": 11,
   "metadata": {},
   "outputs": [
    {
     "name": "stdout",
     "output_type": "stream",
     "text": [
      "Deleted Containers:\n",
      "a7464de7a665a2eafadc572b0a27b2663e969d8d983b26ac0e466858d032f4be\n",
      "\n",
      "Deleted Volumes:\n",
      "844f968ab61fc2cc12569b53ca229503dff0b261c6236da46ad5a4a72dc2e398\n",
      "\n",
      "Deleted Images:\n",
      "untagged: amazonlinux:2\n",
      "untagged: amazonlinux@sha256:d4a4328d679534af47c7a765d62a9195eb27f9a95c03213fca0a18f95aa112cd\n",
      "deleted: sha256:01da4f8f9748b3ac6cf5d265152fb80b9d7545075be8aa0a3d60770a98db9768\n",
      "deleted: sha256:1c729a602f80e0984b76377e1168f5c0e42d0b92acbbbacfc19d983b06cd7565\n",
      "untagged: redis:latest\n",
      "untagged: redis@sha256:000339fb57e0ddf2d48d72f3341e47a8ca3b1beae9bdcb25a96323095b72a79b\n",
      "deleted: sha256:a55fbf438dfd878424c402e365ef3d80c634f07d0f5832193880ee1b95626e4e\n",
      "deleted: sha256:bd436209688cc9495c35573533b0a02bcb66abef9f686930c6a8532b9083182b\n",
      "deleted: sha256:0d61b290c44d5b4a7f096a665b3a62fc233d927f1b402e95571eb9cd4cc4fe09\n",
      "deleted: sha256:f42fd41b71c4634d1b960afa6678e751c7a45f6b50b6043da9092f3f90b9e37b\n",
      "deleted: sha256:ce68cd4cf8096b42a1ffe1349f19f364882da50157b4ba35bb499a8183d362b1\n",
      "deleted: sha256:0c40cd5487b690238a88378481ffb54290251256a639257c6373c8bca704555b\n",
      "deleted: sha256:5dacd731af1b0386ead06c8b1feff9f65d9e0bdfec032d2cd0bc03690698feda\n",
      "\n",
      "Total reclaimed space: 257.3MB\n"
     ]
    }
   ],
   "source": [
    "sudo docker system prune --all --force --volumes"
   ]
  },
  {
   "cell_type": "markdown",
   "metadata": {},
   "source": [
    "The following two commands restart docker, which will clear out any running containers to further reset the demo environment"
   ]
  },
  {
   "cell_type": "code",
   "execution_count": 9,
   "metadata": {},
   "outputs": [],
   "source": [
    "sudo systemctl stop docker\n",
    "sudo systemctl start docker"
   ]
  },
  {
   "cell_type": "markdown",
   "metadata": {},
   "source": [
    "# Exploring Docker's use of filesystems\n",
    "\n",
    "Docker stores container filesystems under /var/lib/docker/overlay2. Before you run any containers, the folder contains two objects:"
   ]
  },
  {
   "cell_type": "code",
   "execution_count": 12,
   "metadata": {},
   "outputs": [
    {
     "name": "stdout",
     "output_type": "stream",
     "text": [
      "total 0\n",
      "brw------- 1 root root 202, 1 May  1 05:01 backingFsBlockDev\n",
      "drwx------ 2 root root      6 May  1 05:01 l\n"
     ]
    }
   ],
   "source": [
    "sudo ls /var/lib/docker/overlay2 -l"
   ]
  },
  {
   "cell_type": "markdown",
   "metadata": {},
   "source": [
    "Lets download a simple, 1-layer, container and check how this is represented in the filesystem"
   ]
  },
  {
   "cell_type": "code",
   "execution_count": 13,
   "metadata": {},
   "outputs": [
    {
     "name": "stdout",
     "output_type": "stream",
     "text": [
      "2: Pulling from library/amazonlinux\n",
      "\n",
      "\u001b[1BDigest: sha256:d4a4328d679534af47c7a765d62a9195eb27f9a95c03213fca0a18f95aa112cd\n",
      "Status: Downloaded newer image for amazonlinux:2\n"
     ]
    }
   ],
   "source": [
    "docker pull amazonlinux:2"
   ]
  },
  {
   "cell_type": "code",
   "execution_count": 14,
   "metadata": {},
   "outputs": [
    {
     "name": "stdout",
     "output_type": "stream",
     "text": [
      "total 0\n",
      "drwx------ 3 root root     30 May  1 05:07 37454eb4b45b90506f54a5b2a40ef1b1ed334f162f14e931e8f643f6ab4d714f\n",
      "brw------- 1 root root 202, 1 May  1 05:01 backingFsBlockDev\n",
      "drwx------ 2 root root     40 May  1 05:07 l\n"
     ]
    }
   ],
   "source": [
    "sudo ls /var/lib/docker/overlay2/ -l"
   ]
  },
  {
   "cell_type": "markdown",
   "metadata": {},
   "source": [
    "Docker provides a metadata description of the container which is accessible via the inspect command. In the JSON document returned, the overlay filesystem is documented under the GraphDriver section. We can extract and verify this matches the folder shown above as follows:"
   ]
  },
  {
   "cell_type": "code",
   "execution_count": 15,
   "metadata": {},
   "outputs": [
    {
     "name": "stdout",
     "output_type": "stream",
     "text": [
      "/var/lib/docker/overlay2/37454eb4b45b90506f54a5b2a40ef1b1ed334f162f14e931e8f643f6ab4d714f/merged\n"
     ]
    }
   ],
   "source": [
    "docker inspect --format='{{.GraphDriver.Data.MergedDir}}' \"amazonlinux:2\""
   ]
  },
  {
   "cell_type": "code",
   "execution_count": 16,
   "metadata": {},
   "outputs": [
    {
     "name": "stdout",
     "output_type": "stream",
     "text": [
      "/var/lib/docker/overlay2/37454eb4b45b90506f54a5b2a40ef1b1ed334f162f14e931e8f643f6ab4d714f\n"
     ]
    }
   ],
   "source": [
    "FS_PATH=$(docker inspect --format='{{.GraphDriver.Data.MergedDir}}' \"amazonlinux:2\" | rev | cut -d/ -f2- | rev)\n",
    "echo $FS_PATH"
   ]
  },
  {
   "cell_type": "markdown",
   "metadata": {},
   "source": [
    "Lets explore the contents of the container folder:"
   ]
  },
  {
   "cell_type": "code",
   "execution_count": 17,
   "metadata": {},
   "outputs": [
    {
     "name": "stdout",
     "output_type": "stream",
     "text": [
      "total 4\n",
      "drwxr-xr-x 18 root root 237 May  1 05:07 diff\n",
      "-rw-r--r--  1 root root  26 May  1 05:07 link\n"
     ]
    }
   ],
   "source": [
    "sudo ls $FS_PATH -l"
   ]
  },
  {
   "cell_type": "markdown",
   "metadata": {},
   "source": [
    "The diff folder contains the data stored in this layer of the filesystem. We can explore this like any other folder:"
   ]
  },
  {
   "cell_type": "code",
   "execution_count": 18,
   "metadata": {},
   "outputs": [
    {
     "name": "stdout",
     "output_type": "stream",
     "text": [
      "bin   dev  home  lib64\tmedia  opt   root  sbin  sys  usr\n",
      "boot  etc  lib\t local\tmnt    proc  run   srv\t tmp  var\n"
     ]
    }
   ],
   "source": [
    "sudo ls $FS_PATH/diff"
   ]
  },
  {
   "cell_type": "markdown",
   "metadata": {},
   "source": [
    "This looks like a normal linux root filesystem!\n",
    "\n",
    "The other file present is a text file, link. We can read the contents of this file: "
   ]
  },
  {
   "cell_type": "code",
   "execution_count": 19,
   "metadata": {},
   "outputs": [
    {
     "name": "stdout",
     "output_type": "stream",
     "text": [
      "R7J4UYFYCXOBF26MGEZUUO2WRS"
     ]
    }
   ],
   "source": [
    "sudo cat $FS_PATH/link"
   ]
  },
  {
   "cell_type": "markdown",
   "metadata": {},
   "source": [
    "The link file maps back to a symlink stored within the 'l' folder in the root of the /var/lib/docker/overlay2/ folder, which in turn points back to the diff folder containing our container filesystem. \n",
    "\n",
    "This behavior is a Docker-specific implementation detail, and not something particular to the use of union/overlay filesystems:"
   ]
  },
  {
   "cell_type": "code",
   "execution_count": 21,
   "metadata": {},
   "outputs": [
    {
     "name": "stdout",
     "output_type": "stream",
     "text": [
      "total 0\n",
      "lrwxrwxrwx 1 root root 72 May  1 05:07 R7J4UYFYCXOBF26MGEZUUO2WRS -> ../37454eb4b45b90506f54a5b2a40ef1b1ed334f162f14e931e8f643f6ab4d714f/diff\n"
     ]
    }
   ],
   "source": [
    "sudo ls /var/lib/docker/overlay2/l -l"
   ]
  },
  {
   "cell_type": "markdown",
   "metadata": {},
   "source": [
    "The other file in the root of the docker filesystem is another Docker specific implementation detail, the backingFsBlockDev file, which is a block device that maps to the root block device for the host OS:"
   ]
  },
  {
   "cell_type": "code",
   "execution_count": 22,
   "metadata": {},
   "outputs": [
    {
     "name": "stdout",
     "output_type": "stream",
     "text": [
      "total 0\n",
      "drwx------ 3 root root     30 May  1 05:07 37454eb4b45b90506f54a5b2a40ef1b1ed334f162f14e931e8f643f6ab4d714f\n",
      "brw------- 1 root root 202, 1 May  1 05:01 backingFsBlockDev\n",
      "drwx------ 2 root root     40 May  1 05:07 l\n",
      "NAME    MAJ:MIN RM SIZE RO TYPE MOUNTPOINT\n",
      "xvda    202:0    0   8G  0 disk \n",
      "└─xvda1 202:1    0   8G  0 part /\n"
     ]
    }
   ],
   "source": [
    "sudo ls /var/lib/docker/overlay2/ -l\n",
    "sudo lsblk"
   ]
  },
  {
   "cell_type": "markdown",
   "metadata": {},
   "source": [
    "### Multiple Layers\n",
    "\n",
    "In the layer-example folder, I have prepared a simple Dockerfile which presents a 3-layer filesystem:\n",
    "\n",
    "- Layer 0: Base image (Amazon Linux 2)\n",
    "- Layer 1: Adds a file: /hello\n",
    "- Layer 2: Removes the file: /hello\n",
    "\n",
    "Lets look at the Dockerfile:"
   ]
  },
  {
   "cell_type": "code",
   "execution_count": 24,
   "metadata": {},
   "outputs": [
    {
     "name": "stdout",
     "output_type": "stream",
     "text": [
      "bash: cd: layer-example: No such file or directory\n",
      "FROM amazonlinux:2\n",
      "RUN touch /hello\n",
      "RUN rm /hello\n"
     ]
    }
   ],
   "source": [
    "cd layer-example\n",
    "cat Dockerfile"
   ]
  },
  {
   "cell_type": "markdown",
   "metadata": {},
   "source": [
    "Lets build the image:"
   ]
  },
  {
   "cell_type": "code",
   "execution_count": 25,
   "metadata": {},
   "outputs": [
    {
     "name": "stdout",
     "output_type": "stream",
     "text": [
      "Sending build context to Docker daemon  2.048kB\n",
      "Step 1/3 : FROM amazonlinux:2\n",
      " ---> 01da4f8f9748\n",
      "Step 2/3 : RUN touch /hello\n",
      " ---> Running in 9e0e7e9e88ae\n",
      "Removing intermediate container 9e0e7e9e88ae\n",
      " ---> b75748f8d30c\n",
      "Step 3/3 : RUN rm /hello\n",
      " ---> Running in 55d88dfc1624\n",
      "Removing intermediate container 55d88dfc1624\n",
      " ---> 40514762916c\n",
      "Successfully built 40514762916c\n",
      "Successfully tagged layer-example:latest\n"
     ]
    }
   ],
   "source": [
    "docker build -t layer-example ."
   ]
  },
  {
   "cell_type": "markdown",
   "metadata": {},
   "source": [
    "From the build log, you can see that Docker passed through three steps (one for each line in the Dockerfile) and created layers for each. \n",
    "\n",
    "Now lets refresh the Docker overlay2 folder to see what's changed:"
   ]
  },
  {
   "cell_type": "code",
   "execution_count": 26,
   "metadata": {},
   "outputs": [
    {
     "name": "stdout",
     "output_type": "stream",
     "text": [
      "total 0\n",
      "brw-------  1 root root 202, 1 May  1 05:01 backingFsBlockDev\n",
      "drwx--x--x 15 root root    200 May  1 05:01 ..\n",
      "drwx------  3 root root     30 May  1 05:07 37454eb4b45b90506f54a5b2a40ef1b1ed334f162f14e931e8f643f6ab4d714f\n",
      "drwx------  4 root root     55 May  1 05:25 d7e52b9e930112ff10a57ed8de02af7531449717a307158090ca671e34de86c6\n",
      "drwx------  4 root root     55 May  1 05:25 905b55b8af005dfcd17e3819f97261b828be42679e7beaa8e55f608018d37824\n",
      "drwx------  2 root root    108 May  1 05:25 l\n",
      "drwx------  6 root root    256 May  1 05:25 .\n"
     ]
    }
   ],
   "source": [
    "sudo ls /var/lib/docker/overlay2/ -latr"
   ]
  },
  {
   "cell_type": "markdown",
   "metadata": {},
   "source": [
    "Two new directories have been created, but it's not clear which is which layer in the fs. It's not obvious where these IDs have come from. \n",
    "\n",
    "We can find the IDs by going back to the 'docker inspect' command and pulling these from the GraphDriver section. \n",
    "\n",
    "The Docker metadata includes a LowerDir value:"
   ]
  },
  {
   "cell_type": "code",
   "execution_count": 27,
   "metadata": {},
   "outputs": [
    {
     "name": "stdout",
     "output_type": "stream",
     "text": [
      "/var/lib/docker/overlay2/d7e52b9e930112ff10a57ed8de02af7531449717a307158090ca671e34de86c6/diff:/var/lib/docker/overlay2/37454eb4b45b90506f54a5b2a40ef1b1ed334f162f14e931e8f643f6ab4d714f/diff\n"
     ]
    }
   ],
   "source": [
    "LOWER_DIRS=$(docker inspect --format='{{.GraphDriver.Data.LowerDir}}' \"layer-example\")\n",
    "echo $LOWER_DIRS"
   ]
  },
  {
   "cell_type": "markdown",
   "metadata": {},
   "source": [
    "This value shows a heirarchy of the lower folders which layer from right to left (bottom layer in the filesystem is the last element in the list)\n",
    "\n",
    "We can extract the middle layer (first element in the list) with some shell cut commands:"
   ]
  },
  {
   "cell_type": "code",
   "execution_count": 28,
   "metadata": {},
   "outputs": [
    {
     "name": "stdout",
     "output_type": "stream",
     "text": [
      "/var/lib/docker/overlay2/d7e52b9e930112ff10a57ed8de02af7531449717a307158090ca671e34de86c6\n"
     ]
    }
   ],
   "source": [
    "MIDDLE_DIR=$(echo $LOWER_DIRS | cut -d':' -f1 | rev | cut -d/ -f2- | rev)\n",
    "echo $MIDDLE_DIR"
   ]
  },
  {
   "cell_type": "code",
   "execution_count": 29,
   "metadata": {},
   "outputs": [
    {
     "name": "stdout",
     "output_type": "stream",
     "text": [
      "total 8\n",
      "drwxr-xr-x 2 root root 19 May  1 05:25 diff\n",
      "-rw-r--r-- 1 root root 26 May  1 05:25 link\n",
      "-rw-r--r-- 1 root root 28 May  1 05:25 lower\n",
      "drwx------ 2 root root  6 May  1 05:25 work\n"
     ]
    }
   ],
   "source": [
    "sudo ls $MIDDLE_DIR -l"
   ]
  },
  {
   "cell_type": "markdown",
   "metadata": {},
   "source": [
    "Lets explore the diff folder in the middle layer, which contains the changes made in this layer:"
   ]
  },
  {
   "cell_type": "code",
   "execution_count": 30,
   "metadata": {},
   "outputs": [
    {
     "name": "stdout",
     "output_type": "stream",
     "text": [
      "total 0\n",
      "-rw-r--r-- 1 root root 0 May  1 05:25 hello\n"
     ]
    }
   ],
   "source": [
    "sudo ls $MIDDLE_DIR/diff -l"
   ]
  },
  {
   "cell_type": "markdown",
   "metadata": {},
   "source": [
    "So this diff shows the creation of the hello file. This corresponds to line 2 in our Dockerfile. \n",
    "\n",
    "To validate this, lets check the 'lower' file which contains the ID of the layer that is below this one. "
   ]
  },
  {
   "cell_type": "code",
   "execution_count": 31,
   "metadata": {},
   "outputs": [
    {
     "name": "stdout",
     "output_type": "stream",
     "text": [
      "l/R7J4UYFYCXOBF26MGEZUUO2WRS"
     ]
    }
   ],
   "source": [
    "sudo cat $MIDDLE_DIR/lower"
   ]
  },
  {
   "cell_type": "markdown",
   "metadata": {},
   "source": [
    "Thats interesting, because this is the same value we saw earlier in the single layer example. This is the ID of our base amazonlinux:2 image and shows how Docker uses the filesystem to efficiently navigate through layers, as well as sharing them between based on the same image.\n",
    "\n",
    "Next, lets explore the other newly created layer, which logically, should be the top. We can extract this from the Docker metadata via the UpperDir variable:"
   ]
  },
  {
   "cell_type": "code",
   "execution_count": 32,
   "metadata": {},
   "outputs": [
    {
     "name": "stdout",
     "output_type": "stream",
     "text": [
      "/var/lib/docker/overlay2/905b55b8af005dfcd17e3819f97261b828be42679e7beaa8e55f608018d37824\n"
     ]
    }
   ],
   "source": [
    "UPPER_DIR=$(docker inspect --format='{{.GraphDriver.Data.UpperDir}}' \"layer-example\" | rev | cut -d/ -f2- | rev)\n",
    "echo $UPPER_DIR"
   ]
  },
  {
   "cell_type": "code",
   "execution_count": 33,
   "metadata": {},
   "outputs": [
    {
     "name": "stdout",
     "output_type": "stream",
     "text": [
      "diff  link  lower  work\n"
     ]
    }
   ],
   "source": [
    "sudo ls $UPPER_DIR"
   ]
  },
  {
   "cell_type": "markdown",
   "metadata": {},
   "source": [
    "This looks very similar to the previous layer, but if we look at the lower file, we'll see the heirarchy:"
   ]
  },
  {
   "cell_type": "code",
   "execution_count": 34,
   "metadata": {},
   "outputs": [
    {
     "name": "stdout",
     "output_type": "stream",
     "text": [
      "l/BXEUNNTRSREEVJO2MKZ5LI3AA3:l/R7J4UYFYCXOBF26MGEZUUO2WRS"
     ]
    }
   ],
   "source": [
    "sudo cat $UPPER_DIR/lower"
   ]
  },
  {
   "cell_type": "markdown",
   "metadata": {},
   "source": [
    "So this is the top layer. In this layer, the hello file was removed. How does that work? "
   ]
  },
  {
   "cell_type": "code",
   "execution_count": 35,
   "metadata": {},
   "outputs": [
    {
     "name": "stdout",
     "output_type": "stream",
     "text": [
      "total 0\n",
      "c--------- 1 root root 0, 0 May  1 05:25 hello\n"
     ]
    }
   ],
   "source": [
    "sudo ls $UPPER_DIR/diff -l"
   ]
  },
  {
   "cell_type": "markdown",
   "metadata": {},
   "source": [
    "So to wrap up, you can see the hello file was removed and this is expressed via the special 'c' flag in the permissions structure. This tells the overlay filesystem driver to present the unified filesystem with this file not present, however, as you can see from the above walk through, the original file exists and is stored on disk in the middle layer, it's just hidden by this tombstone that sits over the top. "
   ]
  }
 ],
 "metadata": {
  "kernelspec": {
   "display_name": "Bash",
   "language": "bash",
   "name": "bash"
  },
  "language_info": {
   "codemirror_mode": "shell",
   "file_extension": ".sh",
   "mimetype": "text/x-sh",
   "name": "bash"
  }
 },
 "nbformat": 4,
 "nbformat_minor": 2
}
